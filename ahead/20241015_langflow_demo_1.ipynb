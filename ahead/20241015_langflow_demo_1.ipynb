{
  "nbformat": 4,
  "nbformat_minor": 0,
  "metadata": {
    "colab": {
      "provenance": []
    },
    "kernelspec": {
      "name": "python3",
      "display_name": "Python 3"
    },
    "language_info": {
      "name": "python"
    }
  },
  "cells": [
    {
      "cell_type": "markdown",
      "source": [
        "Source: https://langchain-ai.github.io/langgraph/\n",
        "\n",
        "1. Install libaries"
      ],
      "metadata": {
        "id": "p-GBpXlY9DdQ"
      }
    },
    {
      "cell_type": "code",
      "execution_count": null,
      "metadata": {
        "id": "k3wpXeFuimtS"
      },
      "outputs": [],
      "source": [
        "%%capture --no-stderr\n",
        "%pip install langchain langgraph langchain_openai"
      ]
    },
    {
      "cell_type": "markdown",
      "source": [
        "2. Initialize the model and tools."
      ],
      "metadata": {
        "id": "VjN1pXrJ99Q6"
      }
    },
    {
      "cell_type": "code",
      "source": [
        "import os\n",
        "from google.colab import userdata\n",
        "\n",
        "os.environ[\"OPENAI_API_KEY\"] = userdata.get(\"open_ai_key\")\n",
        "\n",
        "from langchain_openai import OpenAI\n",
        "\n",
        "model = OpenAI()"
      ],
      "metadata": {
        "id": "BChXb_3_kP2o"
      },
      "execution_count": null,
      "outputs": []
    },
    {
      "cell_type": "markdown",
      "source": [
        "3. Initialize graph with state."
      ],
      "metadata": {
        "id": "hkxIZzSZ9UM1"
      }
    },
    {
      "cell_type": "code",
      "source": [
        "from langgraph.graph import START, END, MessagesState, StateGraph\n",
        "from typing import TypedDict\n",
        "\n",
        "def call_model_agent(state: MessagesState):\n",
        "  messages = state[\"messages\"]\n",
        "  response = model.invoke(messages)\n",
        "  return {\"messages\": [response]}\n",
        "\n",
        "workflow = StateGraph(MessagesState)"
      ],
      "metadata": {
        "id": "c47a1AgfmHiZ"
      },
      "execution_count": null,
      "outputs": []
    },
    {
      "cell_type": "markdown",
      "source": [
        "4. Define graph nodes."
      ],
      "metadata": {
        "id": "EjIlbKh99X_D"
      }
    },
    {
      "cell_type": "code",
      "source": [
        "workflow.add_node(\"call_model_agent\", call_model_agent)"
      ],
      "metadata": {
        "colab": {
          "base_uri": "https://localhost:8080/"
        },
        "id": "um62j-Kfq_W7",
        "outputId": "a772cd72-c46b-4bff-8dde-5e90dad93a9c"
      },
      "execution_count": null,
      "outputs": [
        {
          "output_type": "execute_result",
          "data": {
            "text/plain": [
              "<langgraph.graph.state.StateGraph at 0x7e4e417c3820>"
            ]
          },
          "metadata": {},
          "execution_count": 11
        }
      ]
    },
    {
      "cell_type": "markdown",
      "source": [
        "5. Define entry point and graph edges."
      ],
      "metadata": {
        "id": "ZQzopXAM-A47"
      }
    },
    {
      "cell_type": "code",
      "source": [
        "workflow.add_edge(START, \"call_model_agent\")\n",
        "workflow.add_edge(\"call_model_agent\", END)"
      ],
      "metadata": {
        "colab": {
          "base_uri": "https://localhost:8080/"
        },
        "id": "1U_s5F1NtWQM",
        "outputId": "7e2f8ad9-3c90-4de0-96d7-f4bf8b4408ca"
      },
      "execution_count": null,
      "outputs": [
        {
          "output_type": "execute_result",
          "data": {
            "text/plain": [
              "<langgraph.graph.state.StateGraph at 0x7e4e417c3820>"
            ]
          },
          "metadata": {},
          "execution_count": 12
        }
      ]
    },
    {
      "cell_type": "markdown",
      "source": [
        "6. Compile the graph."
      ],
      "metadata": {
        "id": "-xpWfL7C9hRr"
      }
    },
    {
      "cell_type": "code",
      "source": [
        "graph =workflow.compile()"
      ],
      "metadata": {
        "id": "91KluvOL9j6a"
      },
      "execution_count": null,
      "outputs": []
    },
    {
      "cell_type": "code",
      "source": [
        "from IPython.display import Image, display\n",
        "\n",
        "display(Image(graph.get_graph().draw_mermaid_png()))"
      ],
      "metadata": {
        "colab": {
          "base_uri": "https://localhost:8080/",
          "height": 251
        },
        "id": "dZ6v8F0RYb-u",
        "outputId": "f334f34f-507e-4cdf-a931-98da626a5cd3"
      },
      "execution_count": null,
      "outputs": [
        {
          "output_type": "display_data",
          "data": {
            "image/jpeg": "[encoded data removed]",
            "text/plain": [
              "<IPython.core.display.Image object>"
            ]
          },
          "metadata": {}
        }
      ]
    },
    {
      "cell_type": "markdown",
      "source": [],
      "metadata": {
        "id": "EOWDJVZn9pFm"
      }
    },
    {
      "cell_type": "markdown",
      "source": [
        "7. Execute the graph."
      ],
      "metadata": {
        "id": "NXaww_mF92h5"
      }
    },
    {
      "cell_type": "code",
      "source": [
        "from langchain_core.messages import HumanMessage\n",
        "print(graph.invoke({\"messages\":[HumanMessage(content=\"I am feeling nurvous due to presenatation ongoing. How I can do better\")]}))"
      ],
      "metadata": {
        "colab": {
          "base_uri": "https://localhost:8080/"
        },
        "id": "w94RPcUmaS4E",
        "outputId": "c275b1ca-5c91-4e87-acc0-5a7ae77eb8b4"
      },
      "execution_count": null,
      "outputs": [
        {
          "output_type": "stream",
          "name": "stdout",
          "text": [
            "{'messages': [HumanMessage(content='I am feeling nurvous due to presenatation ongoing. How I can do better', additional_kwargs={}, response_metadata={}, id='60011bae-f14c-4e31-b2fd-c1e96079dbaf'), HumanMessage(content='\\n\\nHere are a few tips that may help you do better during your presentation:\\n\\n1. Practice beforehand: The more you practice your presentation, the more confident you will feel during the actual presentation. This will also help you become more familiar with your material and reduce nervousness.\\n\\n2. Take deep breaths: Before you start your presentation, take a few deep breaths to help calm your nerves. This will also help you slow down your speaking and sound more confident.\\n\\n3. Use positive self-talk: Instead of focusing on your nerves, try to focus on positive thoughts. Tell yourself that you are well-prepared and capable of delivering a great presentation.\\n\\n4. Visualize success: Take a moment to imagine yourself giving a successful presentation. Visualize yourself speaking confidently and engaging your audience.\\n\\n5. Use visual aids: Visual aids such as slides or props can help you stay on track and provide a visual break for your audience. This can also help you feel more prepared and confident.\\n\\n6. Engage with your audience: Instead of just speaking at your audience, try to engage with them by asking questions or encouraging them to participate. This will help you feel more connected and less nervous.\\n\\nRemember, feeling nervous is completely normal and even experienced presenters still feel nervous before a', additional_kwargs={}, response_metadata={}, id='101afec9-25ec-4838-8970-578667f49600')]}\n"
          ]
        }
      ]
    }
  ]
}